{
 "cells": [
  {
   "cell_type": "markdown",
   "id": "ca918995",
   "metadata": {},
   "source": [
    "###### Intel Unnati program 2024 :"
   ]
  },
  {
   "cell_type": "markdown",
   "id": "4cd52ba5",
   "metadata": {},
   "source": [
    "\n",
    "# Problem statement : \n",
    "\n",
    "# “Running GenAI on Intel AI Laptops and Simple LLM Inference on CPU, and     Fine-Tuning of LLM Models using Intel® OpenVINO™”\n"
   ]
  },
  {
   "cell_type": "markdown",
   "id": "838a088f",
   "metadata": {},
   "source": [
    "###### Making Simple LLM model (ChatBot) & Inference with OpenVino on CPU"
   ]
  },
  {
   "cell_type": "code",
   "execution_count": null,
   "id": "84026a71",
   "metadata": {},
   "outputs": [],
   "source": [
    "# Install necessary libraries\n",
    "# You can run this cell to install required libraries if not already installed\n",
    "!pip install transformers datasets openvino openvino-dev[tensorflow2,onnx] onnx"
   ]
  },
  {
   "cell_type": "code",
   "execution_count": null,
   "id": "db586c3f",
   "metadata": {},
   "outputs": [],
   "source": [
    "# Import necessary libraries\n",
    "import torch\n",
    "from transformers import AutoTokenizer, AutoModelForCausalLM, Trainer, TrainingArguments\n",
    "from datasets import Dataset, load_dataset\n",
    "from openvino.runtime import Core\n",
    "import onnx\n",
    "import os"
   ]
  },
  {
   "cell_type": "code",
   "execution_count": null,
   "id": "7fdd1c2c",
   "metadata": {},
   "outputs": [],
   "source": [
    "# Load the model and tokenizer\n",
    "model_name = \"TinyLlama/TinyLlama-1.1B-intermediate-step-1431k-3T\"\n",
    "tokenizer = AutoTokenizer.from_pretrained(model_name)\n",
    "model = AutoModelForCausalLM.from_pretrained(model_name)"
   ]
  },
  {
   "cell_type": "code",
   "execution_count": null,
   "id": "8d3c74ad",
   "metadata": {},
   "outputs": [],
   "source": [
    "# Export the model to ONNX\n",
    "def export_to_onnx(model, tokenizer, onnx_model_path):\n",
    "    dummy_input = tokenizer(\"This is a test input\", return_tensors=\"pt\").input_ids\n",
    "    torch.onnx.export(\n",
    "        model,\n",
    "        dummy_input,\n",
    "        onnx_model_path,\n",
    "        input_names=[\"input_ids\"],\n",
    "        output_names=[\"output\"],\n",
    "        dynamic_axes={\"input_ids\": {0: \"batch_size\"}, \"output\": {0: \"batch_size\"}},\n",
    "        opset_version=14\n",
    "    )\n",
    "\n",
    "onnx_model_path = \"model.onnx\"\n",
    "export_to_onnx(model, tokenizer, onnx_model_path)"
   ]
  },
  {
   "cell_type": "code",
   "execution_count": null,
   "id": "9b47d6b2",
   "metadata": {},
   "outputs": [],
   "source": [
    "# Verify that the ONNX model was created successfully\n",
    "assert os.path.exists(onnx_model_path), \"ONNX model export failed.\""
   ]
  },
  {
   "cell_type": "code",
   "execution_count": null,
   "id": "c1028095",
   "metadata": {},
   "outputs": [],
   "source": [
    "# Convert the ONNX model to OpenVINO IR format\n",
    "mo_command = f\"mo --input_model {onnx_model_path} --output_dir . --input_shape [1,1]\"\n",
    "os.system(mo_command)"
   ]
  },
  {
   "cell_type": "code",
   "execution_count": null,
   "id": "2fb55c8c",
   "metadata": {},
   "outputs": [],
   "source": [
    "# Verify that the IR model files were created successfully\n",
    "assert os.path.exists(\"model.xml\") and os.path.exists(\"model.bin\"), \"Model Optimizer conversion failed.\""
   ]
  },
  {
   "cell_type": "code",
   "execution_count": null,
   "id": "8dfc7970",
   "metadata": {},
   "outputs": [],
   "source": [
    "# Load the OpenVINO model\n",
    "ie = Core()\n",
    "compiled_model = ie.compile_model(\"model.xml\", \"CPU\")\n",
    "input_layer = compiled_model.input(0).get_any_name()\n",
    "output_layer = compiled_model.output(0).get_any_name()"
   ]
  },
  {
   "cell_type": "code",
   "execution_count": null,
   "id": "ec45f3d0",
   "metadata": {},
   "outputs": [],
   "source": [
    "# Define a function to generate responses with OpenVINO\n",
    "def generate_response_openvino(prompt, max_length=50):\n",
    "    inputs = tokenizer(prompt, return_tensors=\"pt\")\n",
    "    input_ids = inputs.input_ids.numpy()\n",
    "    output = compiled_model([input_ids])\n",
    "    output_ids = torch.tensor(output[output_layer]).argmax(dim=-1)\n",
    "    response = tokenizer.decode(output_ids[0], skip_special_tokens=True)\n",
    "    return response"
   ]
  },
  {
   "cell_type": "code",
   "execution_count": null,
   "id": "a16a4263",
   "metadata": {},
   "outputs": [],
   "source": [
    "# Interactive chatbot loop\n",
    "def chat():\n",
    "    print(\"Chatbot is ready! Type 'exit' to end the conversation.\")\n",
    "    while True:\n",
    "        user_input = input(\"You: \")\n",
    "        if user_input.lower() == 'exit':\n",
    "            print(\"Goodbye!\")\n",
    "            break\n",
    "        response = generate_response_openvino(user_input)\n",
    "        print(f\"Bot: {response}\")\n",
    "\n",
    "# To start the chat, simply run the `chat()` function\n",
    "chat()"
   ]
  },
  {
   "cell_type": "markdown",
   "id": "7e90a076",
   "metadata": {},
   "source": [
    "###### Fine-tune model with specific dataset (to make custom chatbot) and model work on our data"
   ]
  },
  {
   "cell_type": "code",
   "execution_count": null,
   "id": "5f555e5e",
   "metadata": {},
   "outputs": [],
   "source": [
    "# Import necessary libraries(optional if already mentioned in above or pip)\n",
    "import torch\n",
    "from transformers import AutoTokenizer, AutoModelForCausalLM, Trainer, TrainingArguments\n",
    "from datasets import Dataset, load_dataset\n",
    "\n",
    "# Load your fine-tuning dataset from data.txt\n",
    "dataset = Dataset.from_file('data.txt')"
   ]
  },
  {
   "cell_type": "code",
   "execution_count": null,
   "id": "65e89042",
   "metadata": {},
   "outputs": [],
   "source": [
    "model_name = \"TinyLlama/TinyLlama-1.1B-intermediate-step-1431k-3T\"\n",
    "tokenizer = AutoTokenizer.from_pretrained(model_name)\n",
    "\n",
    "# Tokenize the dataset\n",
    "def tokenize_function(examples):\n",
    "    return tokenizer(examples['text'], padding='max_length', truncation=True)\n",
    "\n",
    "tokenized_datasets = dataset.map(tokenize_function, batched=True)"
   ]
  },
  {
   "cell_type": "code",
   "execution_count": null,
   "id": "d7ff3d71",
   "metadata": {},
   "outputs": [],
   "source": [
    "# Define Training Arguments\n",
    "training_args = TrainingArguments(\n",
    "    per_device_train_batch_size=4,\n",
    "    num_train_epochs=3,\n",
    "    logging_dir='./logs',\n",
    "    logging_steps=100,\n",
    "    save_steps=1000,\n",
    "    output_dir='./results',\n",
    ")"
   ]
  },
  {
   "cell_type": "code",
   "execution_count": null,
   "id": "c72d6cff",
   "metadata": {},
   "outputs": [],
   "source": [
    "# Define Trainer and Train the Model\n",
    "model = AutoModelForCausalLM.from_pretrained(model_name)\n",
    "\n",
    "trainer = Trainer(\n",
    "    model=model,\n",
    "    args=training_args,\n",
    "    train_dataset=tokenized_datasets['train'],\n",
    "    eval_dataset=tokenized_datasets['validation'],\n",
    ")\n",
    "\n",
    "trainer.train()"
   ]
  },
  {
   "cell_type": "markdown",
   "id": "a4a6e521",
   "metadata": {},
   "source": [
    "###### ChatBot Run after fine tuning"
   ]
  },
  {
   "cell_type": "markdown",
   "id": "78ac7c9b",
   "metadata": {},
   "source": [
    "###### Optional : Want to creat application for model using Flask"
   ]
  },
  {
   "cell_type": "markdown",
   "id": "29f4fc96",
   "metadata": {},
   "source": [
    "###### Successfully Completed"
   ]
  }
 ],
 "metadata": {
  "kernelspec": {
   "display_name": "Python 3 (ipykernel)",
   "language": "python",
   "name": "python3"
  },
  "language_info": {
   "codemirror_mode": {
    "name": "ipython",
    "version": 3
   },
   "file_extension": ".py",
   "mimetype": "text/x-python",
   "name": "python",
   "nbconvert_exporter": "python",
   "pygments_lexer": "ipython3",
   "version": "3.10.9"
  }
 },
 "nbformat": 4,
 "nbformat_minor": 5
}
